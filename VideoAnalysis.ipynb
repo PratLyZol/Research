{
 "cells": [
  {
   "cell_type": "code",
   "execution_count": 1,
   "metadata": {},
   "outputs": [
    {
     "name": "stderr",
     "output_type": "stream",
     "text": [
      "2023-02-09 22:02:49.386145: W tensorflow/stream_executor/platform/default/dso_loader.cc:64] Could not load dynamic library 'libcudart.so.11.0'; dlerror: libcudart.so.11.0: cannot open shared object file: No such file or directory\n",
      "2023-02-09 22:02:49.386175: I tensorflow/stream_executor/cuda/cudart_stub.cc:29] Ignore above cudart dlerror if you do not have a GPU set up on your machine.\n"
     ]
    }
   ],
   "source": [
    "import numpy as np\n",
    "import seaborn as sns\n",
    "import matplotlib.pyplot as plt\n",
    "import utils\n",
    "import os\n",
    "%matplotlib inline\n",
    "\n",
    "from tensorflow.keras.preprocessing.image import ImageDataGenerator\n",
    "from tensorflow.keras.layers import Dense, Input, Dropout,Flatten, Conv2D\n",
    "from tensorflow.keras.layers import BatchNormalization, Activation, MaxPooling2D\n",
    "from tensorflow.keras.models import Model, Sequential\n",
    "from tensorflow.keras.optimizers import Adam\n",
    "from tensorflow.keras.callbacks import ModelCheckpoint, ReduceLROnPlateau\n",
    "from tensorflow.keras.utils import plot_model\n",
    "\n",
    "from IPython.display import SVG, Image\n",
    "from livelossplot import PlotLossesKeras\n",
    "# from livelossplot import PlotLossesTensorFlowKeras\n",
    "import tensorflow as tf"
   ]
  },
  {
   "cell_type": "code",
   "execution_count": 2,
   "metadata": {},
   "outputs": [
    {
     "name": "stdout",
     "output_type": "stream",
     "text": [
      "Found 28709 images belonging to 7 classes.\n",
      "Found 7178 images belonging to 7 classes.\n"
     ]
    }
   ],
   "source": [
    "img_size = 48\n",
    "batch_size = 64\n",
    "\n",
    "# Data generator to augment data for training\n",
    "datagen_train = ImageDataGenerator(horizontal_flip=True)\n",
    "train_generator = datagen_train.flow_from_directory(\"FER2013/train/\", \n",
    "                                                    target_size=(img_size,img_size), \n",
    "                                                    color_mode='grayscale',\n",
    "                                                   batch_size=batch_size,\n",
    "                                                   class_mode='categorical',\n",
    "                                                   shuffle=True)\n",
    "\n",
    "# Data generator to augment data for validation\n",
    "datagen_validation = ImageDataGenerator(horizontal_flip=True)\n",
    "validation_generator = datagen_train.flow_from_directory(\"FER2013/test/\", \n",
    "                                                    target_size=(img_size,img_size), \n",
    "                                                    color_mode='grayscale',\n",
    "                                                   batch_size=batch_size,\n",
    "                                                   class_mode='categorical',\n",
    "                                                   shuffle=False)"
   ]
  },
  {
   "cell_type": "code",
   "execution_count": 3,
   "metadata": {},
   "outputs": [
    {
     "name": "stdout",
     "output_type": "stream",
     "text": [
      "Model: \"sequential\"\n",
      "_________________________________________________________________\n",
      " Layer (type)                Output Shape              Param #   \n",
      "=================================================================\n",
      " conv2d (Conv2D)             (None, 48, 48, 64)        640       \n",
      "                                                                 \n",
      " batch_normalization (BatchN  (None, 48, 48, 64)       256       \n",
      " ormalization)                                                   \n",
      "                                                                 \n",
      " activation (Activation)     (None, 48, 48, 64)        0         \n",
      "                                                                 \n",
      " max_pooling2d (MaxPooling2D  (None, 24, 24, 64)       0         \n",
      " )                                                               \n",
      "                                                                 \n",
      " dropout (Dropout)           (None, 24, 24, 64)        0         \n",
      "                                                                 \n",
      " conv2d_1 (Conv2D)           (None, 24, 24, 128)       204928    \n",
      "                                                                 \n",
      " batch_normalization_1 (Batc  (None, 24, 24, 128)      512       \n",
      " hNormalization)                                                 \n",
      "                                                                 \n",
      " activation_1 (Activation)   (None, 24, 24, 128)       0         \n",
      "                                                                 \n",
      " max_pooling2d_1 (MaxPooling  (None, 12, 12, 128)      0         \n",
      " 2D)                                                             \n",
      "                                                                 \n",
      " dropout_1 (Dropout)         (None, 12, 12, 128)       0         \n",
      "                                                                 \n",
      " conv2d_2 (Conv2D)           (None, 12, 12, 512)       590336    \n",
      "                                                                 \n",
      " batch_normalization_2 (Batc  (None, 12, 12, 512)      2048      \n",
      " hNormalization)                                                 \n",
      "                                                                 \n",
      " activation_2 (Activation)   (None, 12, 12, 512)       0         \n",
      "                                                                 \n",
      " max_pooling2d_2 (MaxPooling  (None, 6, 6, 512)        0         \n",
      " 2D)                                                             \n",
      "                                                                 \n",
      " dropout_2 (Dropout)         (None, 6, 6, 512)         0         \n",
      "                                                                 \n",
      " conv2d_3 (Conv2D)           (None, 6, 6, 512)         2359808   \n",
      "                                                                 \n",
      " batch_normalization_3 (Batc  (None, 6, 6, 512)        2048      \n",
      " hNormalization)                                                 \n",
      "                                                                 \n",
      " activation_3 (Activation)   (None, 6, 6, 512)         0         \n",
      "                                                                 \n",
      " max_pooling2d_3 (MaxPooling  (None, 3, 3, 512)        0         \n",
      " 2D)                                                             \n",
      "                                                                 \n",
      " dropout_3 (Dropout)         (None, 3, 3, 512)         0         \n",
      "                                                                 \n",
      " flatten (Flatten)           (None, 4608)              0         \n",
      "                                                                 \n",
      " dense (Dense)               (None, 256)               1179904   \n",
      "                                                                 \n",
      " batch_normalization_4 (Batc  (None, 256)              1024      \n",
      " hNormalization)                                                 \n",
      "                                                                 \n",
      " activation_4 (Activation)   (None, 256)               0         \n",
      "                                                                 \n",
      " dropout_4 (Dropout)         (None, 256)               0         \n",
      "                                                                 \n",
      " dense_1 (Dense)             (None, 512)               131584    \n",
      "                                                                 \n",
      " batch_normalization_5 (Batc  (None, 512)              2048      \n",
      " hNormalization)                                                 \n",
      "                                                                 \n",
      " activation_5 (Activation)   (None, 512)               0         \n",
      "                                                                 \n",
      " dropout_5 (Dropout)         (None, 512)               0         \n",
      "                                                                 \n",
      " dense_2 (Dense)             (None, 7)                 3591      \n",
      "                                                                 \n",
      "=================================================================\n",
      "Total params: 4,478,727\n",
      "Trainable params: 4,474,759\n",
      "Non-trainable params: 3,968\n",
      "_________________________________________________________________\n"
     ]
    },
    {
     "name": "stderr",
     "output_type": "stream",
     "text": [
      "2023-02-09 22:02:57.174098: I tensorflow/stream_executor/cuda/cuda_gpu_executor.cc:936] successful NUMA node read from SysFS had negative value (-1), but there must be at least one NUMA node, so returning NUMA node zero\n",
      "2023-02-09 22:02:57.174382: W tensorflow/stream_executor/platform/default/dso_loader.cc:64] Could not load dynamic library 'libcudart.so.11.0'; dlerror: libcudart.so.11.0: cannot open shared object file: No such file or directory\n",
      "2023-02-09 22:02:57.174519: W tensorflow/stream_executor/platform/default/dso_loader.cc:64] Could not load dynamic library 'libcublas.so.11'; dlerror: libcublas.so.11: cannot open shared object file: No such file or directory\n",
      "2023-02-09 22:02:57.174626: W tensorflow/stream_executor/platform/default/dso_loader.cc:64] Could not load dynamic library 'libcublasLt.so.11'; dlerror: libcublasLt.so.11: cannot open shared object file: No such file or directory\n",
      "2023-02-09 22:02:57.184664: W tensorflow/stream_executor/platform/default/dso_loader.cc:64] Could not load dynamic library 'libcusolver.so.11'; dlerror: libcusolver.so.11: cannot open shared object file: No such file or directory\n",
      "2023-02-09 22:02:57.184702: W tensorflow/stream_executor/platform/default/dso_loader.cc:64] Could not load dynamic library 'libcusparse.so.11'; dlerror: libcusparse.so.11: cannot open shared object file: No such file or directory\n",
      "2023-02-09 22:02:57.184734: W tensorflow/stream_executor/platform/default/dso_loader.cc:64] Could not load dynamic library 'libcudnn.so.8'; dlerror: libcudnn.so.8: cannot open shared object file: No such file or directory\n",
      "2023-02-09 22:02:57.184739: W tensorflow/core/common_runtime/gpu/gpu_device.cc:1850] Cannot dlopen some GPU libraries. Please make sure the missing libraries mentioned above are installed properly if you would like to use GPU. Follow the guide at https://www.tensorflow.org/install/gpu for how to download and setup the required libraries for your platform.\n",
      "Skipping registering GPU devices...\n",
      "2023-02-09 22:02:57.185198: I tensorflow/core/platform/cpu_feature_guard.cc:151] This TensorFlow binary is optimized with oneAPI Deep Neural Network Library (oneDNN) to use the following CPU instructions in performance-critical operations:  AVX2 AVX512F FMA\n",
      "To enable them in other operations, rebuild TensorFlow with the appropriate compiler flags.\n",
      "/home/prat/.local/lib/python3.8/site-packages/keras/optimizer_v2/adam.py:105: UserWarning: The `lr` argument is deprecated, use `learning_rate` instead.\n",
      "  super(Adam, self).__init__(name, **kwargs)\n"
     ]
    }
   ],
   "source": [
    "model = Sequential()\n",
    "\n",
    "model.add(Conv2D(64, (3,3), padding='same', input_shape=(48,48,1)))\n",
    "model.add(BatchNormalization())\n",
    "model.add(Activation('relu'))\n",
    "model.add(MaxPooling2D(pool_size=(2,2)))\n",
    "model.add(Dropout(0.25))\n",
    "\n",
    "\n",
    "model.add(Conv2D(128,(5,5), padding='same'))\n",
    "model.add(BatchNormalization())\n",
    "model.add(Activation('relu'))\n",
    "model.add(MaxPooling2D(pool_size=(2,2)))\n",
    "model.add(Dropout(0.25))\n",
    "\n",
    "\n",
    "model.add(Conv2D(512,(3,3), padding='same'))\n",
    "model.add(BatchNormalization())\n",
    "model.add(Activation('relu'))\n",
    "model.add(MaxPooling2D(pool_size=(2,2)))\n",
    "model.add(Dropout(0.25))\n",
    "\n",
    "\n",
    "model.add(Conv2D(512,(3,3), padding='same'))\n",
    "model.add(BatchNormalization())\n",
    "model.add(Activation('relu'))\n",
    "model.add(MaxPooling2D(pool_size=(2,2)))\n",
    "model.add(Dropout(0.25))\n",
    "\n",
    "model.add(Flatten())\n",
    "\n",
    "\n",
    "model.add(Dense(256))\n",
    "model.add(BatchNormalization())\n",
    "model.add(Activation('relu'))\n",
    "model.add(Dropout(0.25))\n",
    "\n",
    "model.add(Dense(512))\n",
    "model.add(BatchNormalization())\n",
    "model.add(Activation('relu'))\n",
    "model.add(Dropout(0.25))\n",
    "\n",
    "model.add(Dense(7, activation='softmax'))\n",
    "\n",
    "opt = Adam(lr=0.0005)\n",
    "model.compile(optimizer=opt, loss='categorical_crossentropy', metrics=['accuracy'])\n",
    "model.summary()"
   ]
  },
  {
   "cell_type": "code",
   "execution_count": 4,
   "metadata": {},
   "outputs": [
    {
     "name": "stdout",
     "output_type": "stream",
     "text": [
      "Epoch 1/25\n",
      "448/448 [==============================] - 200s 445ms/step - loss: 1.7968 - accuracy: 0.3169 - val_loss: 1.6599 - val_accuracy: 0.3629 - lr: 5.0000e-04\n",
      "Epoch 2/25\n",
      "448/448 [==============================] - 193s 431ms/step - loss: 1.4711 - accuracy: 0.4372 - val_loss: 1.4206 - val_accuracy: 0.4537 - lr: 5.0000e-04\n",
      "Epoch 3/25\n",
      "448/448 [==============================] - 195s 434ms/step - loss: 1.3277 - accuracy: 0.4880 - val_loss: 1.4406 - val_accuracy: 0.4407 - lr: 5.0000e-04\n",
      "Epoch 4/25\n",
      "448/448 [==============================] - 196s 438ms/step - loss: 1.2456 - accuracy: 0.5246 - val_loss: 1.1745 - val_accuracy: 0.5460 - lr: 5.0000e-04\n",
      "Epoch 5/25\n",
      "448/448 [==============================] - 189s 423ms/step - loss: 1.1915 - accuracy: 0.5461 - val_loss: 1.1390 - val_accuracy: 0.5690 - lr: 5.0000e-04\n",
      "Epoch 6/25\n",
      "448/448 [==============================] - 186s 416ms/step - loss: 1.1498 - accuracy: 0.5622 - val_loss: 1.1221 - val_accuracy: 0.5716 - lr: 5.0000e-04\n",
      "Epoch 7/25\n",
      "448/448 [==============================] - 193s 431ms/step - loss: 1.1149 - accuracy: 0.5764 - val_loss: 1.1704 - val_accuracy: 0.5504 - lr: 5.0000e-04\n",
      "Epoch 8/25\n",
      "448/448 [==============================] - 189s 423ms/step - loss: 1.0918 - accuracy: 0.5853 - val_loss: 1.1572 - val_accuracy: 0.5593 - lr: 5.0000e-04\n",
      "Epoch 9/25\n",
      "448/448 [==============================] - 190s 423ms/step - loss: 1.0195 - accuracy: 0.6150 - val_loss: 1.0271 - val_accuracy: 0.6137 - lr: 5.0000e-05\n",
      "Epoch 10/25\n",
      "448/448 [==============================] - 193s 430ms/step - loss: 0.9958 - accuracy: 0.6204 - val_loss: 1.0372 - val_accuracy: 0.6094 - lr: 5.0000e-05\n",
      "Epoch 11/25\n",
      "448/448 [==============================] - 191s 427ms/step - loss: 0.9839 - accuracy: 0.6274 - val_loss: 1.0040 - val_accuracy: 0.6244 - lr: 5.0000e-05\n",
      "Epoch 12/25\n",
      "448/448 [==============================] - 193s 430ms/step - loss: 0.9745 - accuracy: 0.6350 - val_loss: 1.0145 - val_accuracy: 0.6236 - lr: 5.0000e-05\n",
      "Epoch 13/25\n",
      "448/448 [==============================] - 192s 428ms/step - loss: 0.9616 - accuracy: 0.6387 - val_loss: 1.0042 - val_accuracy: 0.6236 - lr: 5.0000e-05\n",
      "Epoch 14/25\n",
      "448/448 [==============================] - 190s 425ms/step - loss: 0.9526 - accuracy: 0.6407 - val_loss: 0.9966 - val_accuracy: 0.6294 - lr: 1.0000e-05\n",
      "Epoch 15/25\n",
      "448/448 [==============================] - 191s 427ms/step - loss: 0.9508 - accuracy: 0.6445 - val_loss: 0.9978 - val_accuracy: 0.6307 - lr: 1.0000e-05\n",
      "Epoch 16/25\n",
      "448/448 [==============================] - 190s 424ms/step - loss: 0.9441 - accuracy: 0.6414 - val_loss: 0.9920 - val_accuracy: 0.6304 - lr: 1.0000e-05\n",
      "Epoch 17/25\n",
      "448/448 [==============================] - 192s 428ms/step - loss: 0.9470 - accuracy: 0.6429 - val_loss: 0.9967 - val_accuracy: 0.6293 - lr: 1.0000e-05\n",
      "Epoch 18/25\n",
      "448/448 [==============================] - 190s 425ms/step - loss: 0.9404 - accuracy: 0.6442 - val_loss: 0.9896 - val_accuracy: 0.6318 - lr: 1.0000e-05\n",
      "Epoch 19/25\n",
      "448/448 [==============================] - 188s 421ms/step - loss: 0.9420 - accuracy: 0.6422 - val_loss: 0.9911 - val_accuracy: 0.6344 - lr: 1.0000e-05\n",
      "Epoch 20/25\n",
      "448/448 [==============================] - 194s 432ms/step - loss: 0.9354 - accuracy: 0.6470 - val_loss: 0.9942 - val_accuracy: 0.6325 - lr: 1.0000e-05\n",
      "Epoch 21/25\n",
      "448/448 [==============================] - 201s 450ms/step - loss: 0.9404 - accuracy: 0.6437 - val_loss: 0.9925 - val_accuracy: 0.6323 - lr: 1.0000e-05\n",
      "Epoch 22/25\n",
      "448/448 [==============================] - 191s 425ms/step - loss: 0.9361 - accuracy: 0.6445 - val_loss: 0.9878 - val_accuracy: 0.6339 - lr: 1.0000e-05\n",
      "Epoch 23/25\n",
      "448/448 [==============================] - 189s 422ms/step - loss: 0.9320 - accuracy: 0.6497 - val_loss: 0.9901 - val_accuracy: 0.6350 - lr: 1.0000e-05\n",
      "Epoch 24/25\n",
      "448/448 [==============================] - 191s 426ms/step - loss: 0.9295 - accuracy: 0.6496 - val_loss: 0.9890 - val_accuracy: 0.6339 - lr: 1.0000e-05\n",
      "Epoch 25/25\n",
      "448/448 [==============================] - 193s 432ms/step - loss: 0.9290 - accuracy: 0.6504 - val_loss: 0.9905 - val_accuracy: 0.6340 - lr: 1.0000e-05\n"
     ]
    }
   ],
   "source": [
    "rlrp = ReduceLROnPlateau(monitor='val_loss' , factor=0.1, patience=2, min_lr=0.00001,model='auto')\n",
    "checkpoint = ModelCheckpoint(\"model_weights.h5\",monitor='val_accuracy', save_weights_only=True, mode='max',verbose=1)\n",
    "history=model.fit(x=train_generator,steps_per_epoch=train_generator.n//train_generator.batch_size, epochs=25, callbacks=[rlrp], validation_data=validation_generator)"
   ]
  },
  {
   "cell_type": "code",
   "execution_count": null,
   "metadata": {},
   "outputs": [],
   "source": []
  },
  {
   "cell_type": "code",
   "execution_count": 5,
   "metadata": {},
   "outputs": [
    {
     "data": {
      "text/plain": [
       "\"frame = FER2013/test/angry/PrivateTest_88305.jpg\\nmodel.predict('FER2013/test/angry/PrivateTest_88305.jpg')\""
      ]
     },
     "execution_count": 5,
     "metadata": {},
     "output_type": "execute_result"
    }
   ],
   "source": [
    "\"\"\"frame = FER2013/test/angry/PrivateTest_88305.jpg\n",
    "model.predict('FER2013/test/angry/PrivateTest_88305.jpg')\"\"\""
   ]
  },
  {
   "cell_type": "code",
   "execution_count": 6,
   "metadata": {},
   "outputs": [
    {
     "data": {
      "image/png": "[encoded data removed]",
      "text/plain": [
       "<Figure size 640x480 with 1 Axes>"
      ]
     },
     "metadata": {},
     "output_type": "display_data"
    }
   ],
   "source": [
    "acc = history.history['accuracy']\n",
    "epochs = range(1,26)\n",
    "plt.plot(epochs, acc, 'b', label = 'Training Accuracy')\n",
    "plt.title('VSA Accuracy')\n",
    "plt.xlabel('Epochs')\n",
    "plt.ylabel('Accuracy')\n",
    "plt.show()"
   ]
  },
  {
   "cell_type": "code",
   "execution_count": 14,
   "metadata": {},
   "outputs": [
    {
     "ename": "error",
     "evalue": "OpenCV(4.7.0) /io/opencv/modules/highgui/src/window.cpp:1272: error: (-2:Unspecified error) The function is not implemented. Rebuild the library with Windows, GTK+ 2.x or Cocoa support. If you are on Ubuntu or Debian, install libgtk2.0-dev and pkg-config, then re-run cmake or configure script in function 'cvShowImage'\n",
     "output_type": "error",
     "traceback": [
      "\u001b[0;31m---------------------------------------------------------------------------\u001b[0m",
      "\u001b[0;31merror\u001b[0m                                     Traceback (most recent call last)",
      "Cell \u001b[0;32mIn[14], line 11\u001b[0m\n\u001b[1;32m      9\u001b[0m \u001b[39mfor\u001b[39;00m (x, y, w, h) \u001b[39min\u001b[39;00m faces_rect:\n\u001b[1;32m     10\u001b[0m     cv2\u001b[39m.\u001b[39mrectangle(frame, (x, y), (x\u001b[39m+\u001b[39m\u001b[39m48\u001b[39m, y\u001b[39m+\u001b[39m\u001b[39m48\u001b[39m), (\u001b[39m0\u001b[39m, \u001b[39m255\u001b[39m, \u001b[39m0\u001b[39m), \u001b[39m2\u001b[39m)\n\u001b[0;32m---> 11\u001b[0m cv2\u001b[39m.\u001b[39;49mimshow(\u001b[39m'\u001b[39;49m\u001b[39mframe\u001b[39;49m\u001b[39m'\u001b[39;49m,frame)\n\u001b[1;32m     12\u001b[0m \u001b[39mprint\u001b[39m(model\u001b[39m.\u001b[39mpredict(frame))\n\u001b[1;32m     13\u001b[0m \u001b[39mif\u001b[39;00m cv2\u001b[39m.\u001b[39mwaitKey(\u001b[39m1\u001b[39m) \u001b[39m&\u001b[39m \u001b[39m0xFF\u001b[39m \u001b[39m==\u001b[39m \u001b[39mord\u001b[39m(\u001b[39m'\u001b[39m\u001b[39mq\u001b[39m\u001b[39m'\u001b[39m):\n",
      "\u001b[0;31merror\u001b[0m: OpenCV(4.7.0) /io/opencv/modules/highgui/src/window.cpp:1272: error: (-2:Unspecified error) The function is not implemented. Rebuild the library with Windows, GTK+ 2.x or Cocoa support. If you are on Ubuntu or Debian, install libgtk2.0-dev and pkg-config, then re-run cmake or configure script in function 'cvShowImage'\n"
     ]
    }
   ],
   "source": [
    "import cv2\n",
    "cap = cv2.VideoCapture(0)\n",
    "cascade = cv2.CascadeClassifier('haarcascade_frontalface_default.xml')\n",
    "while(True):\n",
    "    ret, frame = cap.read()\n",
    "    gray = cv2.cvtColor(frame, cv2.COLOR_BGR2GRAY)\n",
    "    faces_rect = cascade.detectMultiScale(\n",
    "    gray, scaleFactor=1.1, minNeighbors=9)\n",
    "    for (x, y, w, h) in faces_rect:\n",
    "        cv2.rectangle(frame, (x, y), (x+48, y+48), (0, 255, 0), 2)\n",
    "    cv2.imshow('frame',frame)\n",
    "    print(model.predict(frame))\n",
    "    if cv2.waitKey(1) & 0xFF == ord('q'):\n",
    "        break\n",
    "cap.release()\n",
    "cv2.destroyAllWindows()"
   ]
  }
 ],
 "metadata": {
  "kernelspec": {
   "display_name": "Python 3",
   "language": "python",
   "name": "python3"
  },
  "language_info": {
   "codemirror_mode": {
    "name": "ipython",
    "version": 3
   },
   "file_extension": ".py",
   "mimetype": "text/x-python",
   "name": "python",
   "nbconvert_exporter": "python",
   "pygments_lexer": "ipython3",
   "version": "3.8.10"
  },
  "orig_nbformat": 4,
  "vscode": {
   "interpreter": {
    "hash": "916dbcbb3f70747c44a77c7bcd40155683ae19c65e1c03b4aa3499c5328201f1"
   }
  }
 },
 "nbformat": 4,
 "nbformat_minor": 2
}
